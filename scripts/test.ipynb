{
 "cells": [
  {
   "cell_type": "code",
   "execution_count": 1,
   "id": "3098949b",
   "metadata": {},
   "outputs": [],
   "source": [
    "import os, json, requests, datetime as dt\n",
    "from pathlib import Path\n",
    "from dotenv import load_dotenv"
   ]
  },
  {
   "cell_type": "code",
   "execution_count": 2,
   "id": "44dad4c3",
   "metadata": {},
   "outputs": [],
   "source": [
    "load_dotenv()\n",
    "\n",
    "TOKEN= os.getenv(\"TOGGL_API_KEY\")\n",
    "TODAY= dt.date.today()\n",
    "SINCE= TODAY - dt.timedelta(days=7)\n"
   ]
  },
  {
   "cell_type": "code",
   "execution_count": 4,
   "id": "99164d30",
   "metadata": {},
   "outputs": [
    {
     "name": "stdout",
     "output_type": "stream",
     "text": [
      "2025-07-16\n",
      "7 days, 0:00:00\n",
      "2025-07-09\n"
     ]
    }
   ],
   "source": [
    "print(TODAY)\n",
    "print(dt.timedelta(days=7))\n",
    "print(SINCE) "
   ]
  }
 ],
 "metadata": {
  "kernelspec": {
   "display_name": "Python 3",
   "language": "python",
   "name": "python3"
  },
  "language_info": {
   "codemirror_mode": {
    "name": "ipython",
    "version": 3
   },
   "file_extension": ".py",
   "mimetype": "text/x-python",
   "name": "python",
   "nbconvert_exporter": "python",
   "pygments_lexer": "ipython3",
   "version": "3.12.5"
  }
 },
 "nbformat": 4,
 "nbformat_minor": 5
}
