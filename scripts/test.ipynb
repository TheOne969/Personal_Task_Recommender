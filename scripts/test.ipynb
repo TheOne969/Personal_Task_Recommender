{
 "cells": [
  {
   "cell_type": "code",
   "execution_count": 4,
   "id": "29b819c5",
   "metadata": {},
   "outputs": [],
   "source": [
    "from pathlib import Path\n",
    "import json\n",
    "import pandas as pd\n",
    "import os\n",
    "\n",
    "# ──────────────────────────────\n",
    "# CONFIG ‒ edit as you like\n",
    "# ──────────────────────────────\n",
    "RAW_DIR      = Path(r\"C:\\Codes\\Personal_Task_Recommender\\data\\raw\")       # where raw_entries_*.json live\n",
    "OUT_DIR      = Path(r\"C:\\Codes\\Personal_Task_Recommender\\data\\processed\")   # destination for CSVs\n",
    "JSON_PATTERN = \"raw_entries_*.json\"     # glob pattern to select files\n",
    "LOCAL_TZ     = \"Asia/Kolkata\"          # GMT+05:30\n",
    "# ──────────────────────────────"
   ]
  },
  {
   "cell_type": "code",
   "execution_count": 8,
   "id": "3215b1fb",
   "metadata": {},
   "outputs": [
    {
     "name": "stdout",
     "output_type": "stream",
     "text": [
      "[WindowsPath('C:/Codes/Personal_Task_Recommender/data/raw/raw_entries_2025-05-13_to_2025-07-09.json'), WindowsPath('C:/Codes/Personal_Task_Recommender/data/raw/raw_entries_2025-07-09_to_2025-07-16.json'), WindowsPath('C:/Codes/Personal_Task_Recommender/data/raw/raw_entries_2025-07-15_to_2025-07-18.json'), WindowsPath('C:/Codes/Personal_Task_Recommender/data/raw/raw_entries_2025-07-18_to_2025-07-21.json')]\n"
     ]
    }
   ],
   "source": [
    "json_files = list(Path(RAW_DIR).iterdir())\n",
    "print(json_files)"
   ]
  }
 ],
 "metadata": {
  "kernelspec": {
   "display_name": "Python 3",
   "language": "python",
   "name": "python3"
  },
  "language_info": {
   "codemirror_mode": {
    "name": "ipython",
    "version": 3
   },
   "file_extension": ".py",
   "mimetype": "text/x-python",
   "name": "python",
   "nbconvert_exporter": "python",
   "pygments_lexer": "ipython3",
   "version": "3.12.5"
  }
 },
 "nbformat": 4,
 "nbformat_minor": 5
}
